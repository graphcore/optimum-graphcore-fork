{
 "cells": [
  {
   "cell_type": "markdown",
   "id": "0b804343",
   "metadata": {},
   "source": [
    "# Whisper-tiny on IPU\n",
    "\n",
    "This notebook demonstrates inference with Whisper-tiny on IPU using FP16.    \n",
    "The present version of the IPU Whisper implementation runs the encoder and the decoder on IPU."
   ]
  },
  {
   "cell_type": "code",
   "execution_count": 14,
   "id": "8698b14a",
   "metadata": {},
   "outputs": [
    {
     "name": "stdout",
     "output_type": "stream",
     "text": [
      "The autoreload extension is already loaded. To reload it, use:\n",
      "  %reload_ext autoreload\n"
     ]
    }
   ],
   "source": [
    "%load_ext autoreload\n",
    "%autoreload 2\n",
    "import numpy as np\n"
   ]
  },
  {
   "cell_type": "code",
   "execution_count": 15,
   "id": "130d401e",
   "metadata": {},
   "outputs": [],
   "source": [
    "from transformers import WhisperProcessor, WhisperForConditionalGeneration, WhisperConfig, WhisperTokenizer\n",
    "\n",
    "from dataclasses import dataclass\n",
    "from typing import List\n",
    "\n",
    "@dataclass\n",
    "class IPUWhisperConf:\n",
    "    \"\"\"A data class to collect IPU-related config parameters\"\"\"\n",
    "    model_spec: str\n",
    "    layers_per_ipu: List\n",
    "    pod_type: str\n",
    "\n",
    "ipu_whisper = {\n",
    "    \"tiny\": IPUWhisperConf(model_spec='openai/whisper-tiny.en', layers_per_ipu=[8], pod_type=\"pod4\"),\n",
    "    # Larger sizes will become available in due course\n",
    "}\n",
    "model_size = \"tiny\"\n",
    "iwc = ipu_whisper[model_size]\n"
   ]
  },
  {
   "cell_type": "markdown",
   "id": "7b89f42e",
   "metadata": {},
   "source": [
    "Max output sequence length \n",
    "- default is 448, but I couldn't fit more than 1 batch\n",
    "- 384 tokens in 30 seconds should still be ok for English, which is ~170 workds / minute for a fast speaker, and lets us fit batch size 2."
   ]
  },
  {
   "cell_type": "code",
   "execution_count": 16,
   "id": "6731f6d1",
   "metadata": {},
   "outputs": [],
   "source": [
    "# max_length = 448\n",
    "max_length = 384"
   ]
  },
  {
   "cell_type": "code",
   "execution_count": 17,
   "id": "1085e88a",
   "metadata": {},
   "outputs": [],
   "source": [
    "import os\n",
    "from pathlib import Path\n",
    "pod_type = os.getenv(\"GRAPHCORE_POD_TYPE\", iwc.pod_type)\n",
    "executable_cache_dir = os.getenv(\"POPLAR_EXECUTABLE_CACHE_DIR\", \"/tmp/whisper_exe_cache/\") + \"whisper_inference\""
   ]
  },
  {
   "cell_type": "code",
   "execution_count": 18,
   "id": "a689797d",
   "metadata": {},
   "outputs": [],
   "source": [
    "# os.environ[\"PVTI_OPTIONS\"]=r'{\"enable\":\"true\", \"directory\":\"/localdata/paolot/profiles/minimal\"}'\n",
    "# os.environ[\"POPLAR_ENGINE_OPTIONS\"] = f'{{\"autoReport.all\":\"true\", \"debug.allowOutOfMemory\": \"true\", \"autoReport.directory\":\"profiles\"}}'"
   ]
  },
  {
   "cell_type": "markdown",
   "id": "420bdd00",
   "metadata": {},
   "source": [
    "Source file: \n",
    "\n",
    "wget https://upload.wikimedia.org/wikipedia/commons/3/3d/Barack_Obama_inauguration_speech_2009.ogg\n",
    "ffmpeg -y -i Barack_Obama_inauguration_speech_2009.ogg -ar 16000 -ac 1 BarackObama.wav\n",
    "\n"
   ]
  },
  {
   "cell_type": "code",
   "execution_count": 19,
   "id": "f1073fd5",
   "metadata": {},
   "outputs": [],
   "source": [
    "# Instantiate processor and model\n",
    "from optimum.graphcore import IPUConfig\n",
    "from optimum.graphcore.modeling_utils import to_pipelined\n",
    "\n",
    "processor = WhisperProcessor.from_pretrained(iwc.model_spec)\n",
    "model = WhisperForConditionalGeneration.from_pretrained(iwc.model_spec)\n",
    "ipu_config = IPUConfig(\n",
    "    executable_cache_dir=executable_cache_dir,\n",
    "    layers_per_ipu=iwc.layers_per_ipu, \n",
    "    matmul_proportion=0.1)\n",
    "pipelined_model = to_pipelined(model, ipu_config)\n",
    "pipelined_model = pipelined_model.parallelize().half()"
   ]
  },
  {
   "cell_type": "code",
   "execution_count": 20,
   "id": "6e486ef4",
   "metadata": {},
   "outputs": [],
   "source": [
    "import soundfile as sf\n",
    "wav_array, sampling_rate = sf.read('BarackObama.wav')\n",
    "wav_array = np.array(wav_array, dtype=np.float32)"
   ]
  },
  {
   "cell_type": "code",
   "execution_count": 21,
   "id": "2255cb5b",
   "metadata": {},
   "outputs": [],
   "source": [
    "full_length_s = len(wav_array) / sampling_rate\n",
    "num_samples_30_sec = int(30.0 * sampling_rate)\n",
    "num_samples_to_pad = -len(wav_array) % num_samples_30_sec\n",
    "padded_wav_array = np.pad(wav_array, (0, num_samples_to_pad))\n",
    "reshaped_wav_array = padded_wav_array.reshape((len(padded_wav_array)//num_samples_30_sec, num_samples_30_sec) )\n"
   ]
  },
  {
   "cell_type": "code",
   "execution_count": 22,
   "id": "a7e1b4cf",
   "metadata": {},
   "outputs": [
    {
     "name": "stdout",
     "output_type": "stream",
     "text": [
      "38 transcriptions of 30.0 seconds, total duration 1140.0 seconds\n"
     ]
    }
   ],
   "source": [
    "print(f\"{reshaped_wav_array.shape[0]} transcriptions of {reshaped_wav_array.shape[1]/sampling_rate} seconds, total duration {len(padded_wav_array)/sampling_rate} seconds\")\n"
   ]
  },
  {
   "cell_type": "markdown",
   "id": "12d0e1e0",
   "metadata": {},
   "source": [
    "## Batch size\n",
    "\n",
    "Still experimental. The batching is done manually via ugly for() loops."
   ]
  },
  {
   "cell_type": "code",
   "execution_count": 23,
   "id": "1544486f",
   "metadata": {},
   "outputs": [],
   "source": [
    "batch_size = 2"
   ]
  },
  {
   "cell_type": "markdown",
   "id": "b18e6d51",
   "metadata": {},
   "source": [
    "# Separate pre-/post- processing\n",
    "\n",
    "### Preprocessing\n"
   ]
  },
  {
   "cell_type": "code",
   "execution_count": 24,
   "id": "cf6fff52",
   "metadata": {},
   "outputs": [
    {
     "name": "stdout",
     "output_type": "stream",
     "text": [
      "CPU times: user 1min 4s, sys: 2min 29s, total: 3min 33s\n",
      "Wall time: 3.05 s\n"
     ]
    }
   ],
   "source": [
    "%%time\n",
    "all_input_features = []\n",
    "for k in range(0, reshaped_wav_array.shape[0], batch_size):\n",
    "    wav_data = [reshaped_wav_array[k+i,:] for i in range(batch_size)]\n",
    "    all_input_features.append( processor(wav_data, return_tensors='pt',sampling_rate=16000).input_features.half() )\n"
   ]
  },
  {
   "cell_type": "markdown",
   "id": "bca9135d",
   "metadata": {},
   "source": [
    "### Inference"
   ]
  },
  {
   "cell_type": "code",
   "execution_count": 31,
   "id": "a443f00b",
   "metadata": {},
   "outputs": [
    {
     "name": "stdout",
     "output_type": "stream",
     "text": [
      "CPU times: user 8min 3s, sys: 0 ns, total: 8min 3s\n",
      "Wall time: 8.3 s\n"
     ]
    }
   ],
   "source": [
    "%%time\n",
    "all_sample_outputs = []\n",
    "for input_features in all_input_features:\n",
    "    sample_output = pipelined_model.generate(input_features, max_length=max_length, min_length=3)\n",
    "    all_sample_outputs.append(sample_output)\n"
   ]
  },
  {
   "cell_type": "markdown",
   "id": "8420aa31",
   "metadata": {},
   "source": [
    "### Post-processing"
   ]
  },
  {
   "cell_type": "code",
   "execution_count": 32,
   "id": "46ecbbe8",
   "metadata": {},
   "outputs": [
    {
     "name": "stdout",
     "output_type": "stream",
     "text": [
      "CPU times: user 15.7 ms, sys: 0 ns, total: 15.7 ms\n",
      "Wall time: 14.8 ms\n"
     ]
    }
   ],
   "source": [
    "%%time\n",
    "all_transcriptions = []\n",
    "for sample_output in all_sample_outputs:\n",
    "    transcription = processor.batch_decode(sample_output, skip_special_tokens=False)\n",
    "    all_transcriptions.append(transcription)"
   ]
  },
  {
   "cell_type": "code",
   "execution_count": 33,
   "id": "8839b8ea",
   "metadata": {},
   "outputs": [
    {
     "data": {
      "text/plain": [
       "[['<|startoftranscript|><|notimestamps|> Thank you. Thank you. My fellow citizens. I stand here today<|endoftext|><|endoftext|><|endoftext|><|endoftext|><|endoftext|><|endoftext|><|endoftext|><|endoftext|><|endoftext|><|endoftext|><|endoftext|><|endoftext|><|endoftext|><|endoftext|><|endoftext|><|endoftext|><|endoftext|><|endoftext|><|endoftext|><|endoftext|><|endoftext|><|endoftext|><|endoftext|><|endoftext|><|endoftext|><|endoftext|><|endoftext|><|endoftext|><|endoftext|><|endoftext|><|endoftext|><|endoftext|><|endoftext|><|endoftext|><|endoftext|><|endoftext|><|endoftext|><|endoftext|>',\n",
       "  '<|startoftranscript|><|notimestamps|> Humboldt by the task of force. Grateful for the trust you bestowed, mindful of the sacrifices born by our ancestors. I thank President Bush for his service to our nation. As well as the generosity and cooperation he has shown throughout this transition.<|endoftext|>'],\n",
       " ['<|startoftranscript|><|notimestamps|> 44 Americans have now taken the presidential oath. The words have been spoken during rising tides of prosperity and the still waters of peace. Yet every so often, the oath has taken amidst gathering clouds and raging storms. At these moments, America has carried on not simply because of the<|endoftext|><|endoftext|><|endoftext|><|endoftext|><|endoftext|><|endoftext|><|endoftext|><|endoftext|><|endoftext|><|endoftext|><|endoftext|><|endoftext|><|endoftext|><|endoftext|><|endoftext|><|endoftext|><|endoftext|><|endoftext|>',\n",
       "  '<|startoftranscript|><|notimestamps|> the skill or vision of those in high office. But because we, the people, have remained faithful to the ideals of our forebears and true to our founding documents. So it has been so it must be with this generation of Americans that we are in the midst of crisis is now well understood. Our nation is at war against a far-reaching network<|endoftext|>'],\n",
       " ['<|startoftranscript|><|notimestamps|> of violence and hatred. Our economy is badly weakened, a consequence of greed and irresponsibility on the part of some, but also our collective failure to make hard choices and prepare the nation for a new age. Homes have been lost. Jobs shed. Business is shuttered. Our health care is to costly. Our schools fail too many. And each day brings further evidence that the ways we use energy strengthen our adversaries and threaten our<|endoftext|>',\n",
       "  \"<|startoftranscript|><|notimestamps|> planet. These are the indicators of crisis. It's up to data and statistics. Less measurable, but no less profound is a sapping of confidence across our land. A nagging fear that America's decline is inevitable that the next generation must lower its sights. Today, I say to you that the challenges we face are<|endoftext|><|endoftext|><|endoftext|><|endoftext|><|endoftext|><|endoftext|><|endoftext|><|endoftext|><|endoftext|><|endoftext|><|endoftext|><|endoftext|><|endoftext|><|endoftext|><|endoftext|><|endoftext|><|endoftext|><|endoftext|><|endoftext|><|endoftext|><|endoftext|><|endoftext|><|endoftext|>\"],\n",
       " ['<|startoftranscript|><|notimestamps|> They are serious and they are many. They will not be met easily or in a short span of time. But know this America, they will be met. On this day, we gather because we have chosen hope over fear. Unity of purpose over conflict and discord. On this day, we come to<|endoftext|><|endoftext|><|endoftext|><|endoftext|><|endoftext|><|endoftext|><|endoftext|><|endoftext|><|endoftext|><|endoftext|><|endoftext|><|endoftext|><|endoftext|><|endoftext|><|endoftext|><|endoftext|><|endoftext|><|endoftext|><|endoftext|><|endoftext|><|endoftext|>',\n",
       "  '<|startoftranscript|><|notimestamps|> proclaim an end to the petty grievances and false promises, the recriminations, and worn out dogmas that for far too long have strangled our politics. We remain a young nation, but in the words of Scripture, the time has come to set aside childish things. The time has come to reaffirm our enduring spirit, to choose our better history, to carry forward that precious gift, that no<|endoftext|>'],\n",
       " ['<|startoftranscript|><|notimestamps|> a past dawn from generation to generation, that God given promise that all are equal, all are free, and all deserve a chance to pursue their full measure of happiness. In reaffirming the greatness of our nation, we understand that greatness is never a given. It must be earned.<|endoftext|><|endoftext|><|endoftext|><|endoftext|><|endoftext|><|endoftext|><|endoftext|><|endoftext|><|endoftext|><|endoftext|><|endoftext|><|endoftext|><|endoftext|><|endoftext|><|endoftext|><|endoftext|><|endoftext|><|endoftext|><|endoftext|><|endoftext|><|endoftext|><|endoftext|><|endoftext|><|endoftext|><|endoftext|><|endoftext|><|endoftext|><|endoftext|><|endoftext|><|endoftext|><|endoftext|><|endoftext|><|endoftext|>',\n",
       "  \"<|startoftranscript|><|notimestamps|> Our journey has never been one of shortcuts or settling for less. It has not been the path for the fainthearted. For those who prefer leisure over work, there seek only the pleasures of riches and fame. Rather, it has been the risk takers, the doers, the makers of things, some celebrated, but more often men and women obscure in their labor. We've carried us up the long rugged path towards prosperity and freedom.<|endoftext|>\"],\n",
       " ['<|startoftranscript|><|notimestamps|> For us, they packed up their few worldly possessions and traveled across oceans in search of a new life. For us, they toiled in sweatshops and settled the West, endured the lash of the whip, and plowed the hard earth. For us, they fought and died in places like conqueror and Gettysburg, Normandy, and quesa. Time and again, these men and women struggled and sacrificed<|endoftext|><|endoftext|><|endoftext|>',\n",
       "  '<|startoftranscript|><|notimestamps|> and work till their hands were raw so that we might live a better life. They saw America as bigger than the sum of our individual ambitions, greater than all the differences of birth or wealth or faction. This is the journey we continue today. We remain the most prosperous powerful nation on earth. Our workers are no less productive than when this crisis began. Our minds are no less inventive. Our goods and services, no less<|endoftext|>'],\n",
       " ['<|startoftranscript|><|notimestamps|> that they were last week or last month or last year. Our capacity remains undeminished. But our time of standing pat, of protecting their interests and putting off unpleasant decisions, that time has surely passed. Starting today, we must pick ourselves up, dust ourselves off, and begin again the work of remaking America.<|endoftext|>',\n",
       "  \"<|startoftranscript|><|notimestamps|> We will build the roads and bridges, the electric grids and digital lines that feed our commerce and bind us together. We will restore science to its rightful place and we will technology's wonders to raise<|endoftext|><|endoftext|><|endoftext|><|endoftext|><|endoftext|><|endoftext|><|endoftext|><|endoftext|><|endoftext|><|endoftext|><|endoftext|><|endoftext|><|endoftext|><|endoftext|><|endoftext|><|endoftext|><|endoftext|><|endoftext|><|endoftext|><|endoftext|><|endoftext|><|endoftext|><|endoftext|><|endoftext|><|endoftext|><|endoftext|>\"],\n",
       " [\"<|startoftranscript|><|notimestamps|> health care's quality and lower its cost. We will harness the sun and the winds and the soil to fuel our cars and run our factories and we will transform our schools and colleges and universities to meet the demands of a new age. All this we can do. All this we will do. Now, there are some who question the scale of our ambitions. Who suggest that our system cannot tolerate too many big plans.<|endoftext|>\",\n",
       "  '<|startoftranscript|><|notimestamps|> their memories are short for they have forgotten what this country has already done what free men and women can achieve when imagination is joined a common purpose and necessity to courage what the cynics fail to understand is that the ground has shifted beneath them that the stale political arguments that have consumed us for so long no longer apply the question we ask today is not whether our government<|endoftext|><|endoftext|><|endoftext|><|endoftext|><|endoftext|><|endoftext|><|endoftext|><|endoftext|><|endoftext|><|endoftext|><|endoftext|><|endoftext|><|endoftext|>'],\n",
       " [\"<|startoftranscript|><|notimestamps|> government is too big or too small, but whether it works, whether it helps families find jobs at a decent wage, care they can afford a retirement that is dignified. Where the answer is yes, we intend to move forward. Where the answer is no, programs will end. And those of us who manage the public's dollars will be held to account to spend wisely, reform bad habits, and do our business in the light of day, because only then can we restore<|endoftext|>\",\n",
       "  \"<|startoftranscript|><|notimestamps|> the vital trust between a people and their government. Nor is the question before us whether the market is a force for good Oreo. It's power to generate wealth and expand freedom is unmatched. But this crisis has reminded us that without a watchful eye, the market can spin out of control. The nation cannot prosper long when it favors only the prosperous. The success of our country<|endoftext|><|endoftext|><|endoftext|><|endoftext|><|endoftext|><|endoftext|><|endoftext|><|endoftext|><|endoftext|><|endoftext|><|endoftext|><|endoftext|><|endoftext|><|endoftext|><|endoftext|><|endoftext|><|endoftext|><|endoftext|><|endoftext|><|endoftext|>\"],\n",
       " ['<|startoftranscript|><|notimestamps|> Our economy has always depended not just on the size of our gross domestic product, but on the reach of our prosperity, on the ability to extend opportunity to every willing heart. Not out of charity, but because it is the surest route to our common good. As for our common defense, we reject as false the choice between our safety and our ideals.<|endoftext|>',\n",
       "  '<|startoftranscript|><|notimestamps|> Our founding fathers are founding fathers faced with perils that we can scarcely imagine, drafted a charter to assure the rule of law and the rights of man, a charter expanded by the blood of generations. Those ideals still like the world, and we will not give them up for expedient sake. And so, to all the other people,<|endoftext|><|endoftext|><|endoftext|><|endoftext|><|endoftext|>'],\n",
       " ['<|startoftranscript|><|notimestamps|> and governments who are watching today, from the grandest capitals to the small village where my father was born. Know that America is a friend of each nation and every man, woman and child, who seeks a future of peace and dignity. And we are ready to lead once more.<|endoftext|><|endoftext|><|endoftext|><|endoftext|><|endoftext|><|endoftext|><|endoftext|><|endoftext|><|endoftext|><|endoftext|><|endoftext|><|endoftext|><|endoftext|><|endoftext|><|endoftext|><|endoftext|><|endoftext|><|endoftext|><|endoftext|><|endoftext|><|endoftext|><|endoftext|><|endoftext|><|endoftext|><|endoftext|><|endoftext|>',\n",
       "  '<|startoftranscript|><|notimestamps|> Recall that earlier generations faced down fascism and communism not just with missiles and tanks, but with the sturdy alliances and enduring convictions. They understood that our power alone cannot protect us nor does it entitle us to do as we please. Instead, they knew that our power grows through its prudent use, our security emanates from the justice of our cause, the force of our example, the tempering qualities of humility.<|endoftext|>'],\n",
       " ['<|startoftranscript|><|notimestamps|> and restraint. We are the keepers of this legacy. Guided by these principles once more, we can meet those new threats that demand even greater effort, even greater cooperation and understanding between nations. We will begin to responsibly leave Iraq to its people and forward to hard-earned peace in Afghanistan. With all friends and former foes, we will work tirelessly to lessen the nuclear threat and roll back the<|endoftext|>',\n",
       "  '<|startoftranscript|><|notimestamps|> of a warming planet. We will not apologize for our way of life, nor will we waver in its defense, and for those who seek to advance their aims by inducing terror and slaughtering innocence, we say to you now that our spirit is stronger and cannot be broken, you cannot outlast us, and we will defeat you.<|endoftext|><|endoftext|><|endoftext|><|endoftext|><|endoftext|><|endoftext|><|endoftext|><|endoftext|><|endoftext|><|endoftext|><|endoftext|><|endoftext|><|endoftext|>'],\n",
       " ['<|startoftranscript|><|notimestamps|> For we know that our patchwork heritage is a strength, not a weakness. We are a nation of Christians and Muslims, Jews and Hindus and non-believers. We are shaped by every language and culture drawn from every end of this earth. And because we have tasted the bitter swell of civil war and segregation and emerged from that dark chapter stronger and<|endoftext|><|endoftext|><|endoftext|><|endoftext|><|endoftext|><|endoftext|><|endoftext|><|endoftext|><|endoftext|><|endoftext|><|endoftext|><|endoftext|><|endoftext|><|endoftext|><|endoftext|><|endoftext|>',\n",
       "  '<|startoftranscript|><|notimestamps|> United, we cannot help but believe that the old hatreds shall someday pass, that the lines of tribes shall soon dissolve, that as the world grows smaller, our common humanity shall reveal itself, and that America must play its role in ushering in a new era of peace. To the Muslim world, we seek a new way forward based on mutual interest and mutual respect. To those leaders around the globe who seek to sow conflict<|endoftext|>'],\n",
       " [\"<|startoftranscript|><|notimestamps|> or blame their society's ills on the West, know that your people will judge you on what you can build. Not what you destroy. To those who claim to power through corruption and deceit and the silencing of dissent, know that you are on the wrong side of history, but that we will extend a hand if you are willing to unclench your fist.<|endoftext|><|endoftext|><|endoftext|><|endoftext|><|endoftext|><|endoftext|><|endoftext|><|endoftext|><|endoftext|><|endoftext|><|endoftext|><|endoftext|>\",\n",
       "  \"<|startoftranscript|><|notimestamps|> To the people of poor nations, we pledge to work alongside you to make your farms flourish and let clean waters flow. To nourish star bodies and feed hungry minds. And to those nations like ours that enjoy relative plenty, we say we can no longer afford indifference to the suffering outside our borders, nor can we consume the world's resources without regard to effect. For the world has changed, and we must change with it.<|endoftext|>\"],\n",
       " ['<|startoftranscript|><|notimestamps|> As we consider the world that unfolds before us, we remember with humble gratitude those brave Americans who at this very hour patrol far off deserts and distant mountains. They have something to tell us, just as the fallen heroes who lie in our LinkedIn whisper through the ages. We honor them not only because they are the guardians of our liberty,<|endoftext|><|endoftext|><|endoftext|><|endoftext|><|endoftext|>',\n",
       "  '<|startoftranscript|><|notimestamps|> but because they embody the spirit of service, a willingness to find meaning in something greater than themselves. And yet at this moment, a moment that will define a generation, it is precisely this spirit that must inhabit us all. For as much as government can do and must do, it is ultimately the faith and determination of the American people upon which this nation<|endoftext|>'],\n",
       " [\"<|startoftranscript|><|notimestamps|> It is the kindness to take in a stranger when the levees break. The selflessness of workers who would rather cut their hours than see a friend lose their job, which sees us through our darkest hours. It is the firefighters courage to storm a stairway filled with smoke, but also a parent's willingness to nurture a child that finally decides our fate. Our challenges may be new.<|endoftext|>\",\n",
       "  '<|startoftranscript|><|notimestamps|> with which we meet them may be new. But those values upon which our success depends. Honesty and hard work, courage and fair play, tolerance and curiosity, loyalty and patriotism. These things are old. These things are true. They have been the quiet force of progress throughout our history.<|endoftext|><|endoftext|><|endoftext|><|endoftext|><|endoftext|><|endoftext|><|endoftext|><|endoftext|><|endoftext|><|endoftext|><|endoftext|><|endoftext|><|endoftext|><|endoftext|><|endoftext|><|endoftext|><|endoftext|><|endoftext|><|endoftext|><|endoftext|>'],\n",
       " ['<|startoftranscript|><|notimestamps|> What is demanded then is a return to these truths. What is required of us now is a new era of responsibility, a recognition on the part of every American that we have duties to ourselves, our nation, and the world, duties that we do not grudgingly accept but rather seize gladly, firm in the knowledge that there is nothing so satisfying to the spirit, so defining of our character, and giving our all to a difficult task.<|endoftext|>',\n",
       "  '<|startoftranscript|><|notimestamps|> This is the price and the promise of citizenship. This is the source of our confidence. The knowledge that God calls on us to shape an uncertain destiny. This is the meaning of our liberty and our creed why men and women and children of every race and every faith can join in celebration across this magnificent mall. And why a man whose father less than 60 years ago might not have been served<|endoftext|><|endoftext|><|endoftext|><|endoftext|><|endoftext|><|endoftext|><|endoftext|><|endoftext|><|endoftext|><|endoftext|><|endoftext|><|endoftext|>'],\n",
       " [\"<|startoftranscript|><|notimestamps|> that a local restaurant can now stand before you to take a Mosaquered Oath. Let us come our state, amen, remembrance, of who we are and how far we have traveled. In the year of America's birth, in the coldest<|endoftext|><|endoftext|><|endoftext|><|endoftext|><|endoftext|><|endoftext|><|endoftext|><|endoftext|><|endoftext|><|endoftext|><|endoftext|><|endoftext|><|endoftext|><|endoftext|><|endoftext|><|endoftext|><|endoftext|><|endoftext|><|endoftext|><|endoftext|><|endoftext|><|endoftext|><|endoftext|><|endoftext|><|endoftext|><|endoftext|><|endoftext|><|endoftext|><|endoftext|><|endoftext|><|endoftext|><|endoftext|><|endoftext|><|endoftext|>\",\n",
       "  '<|startoftranscript|><|notimestamps|> of months, a small band of patriots huddled by dying campfires on the shores of an icy river. The capital was abandoned. The enemy was advancing. The snow was stained with blood. At a moment when the outcome of our revolution was most in doubt, the father of our nation ordered these words be read to the people. Let it be told to future world that in the depth of winter, when nothing<|endoftext|>'],\n",
       " [\"<|startoftranscript|><|notimestamps|> but hope and virtue could survive that the city and the country alarmed at one common danger came forth to me. America, in the face of our common dangers, in this winter of our hardship, let us remember these timeless words. With hope and virtue, let us brave once more the Iced currents and endure what storms may come. Let it be said by our children's children<|endoftext|>\",\n",
       "  \"<|startoftranscript|><|notimestamps|> that when we were tested, we were fused to let this journey end, that we did not turn back nor did we falter, and with eyes fixed on the horizon and God's grace upon us, we carried forth that great gift of freedom and delivered it safely, the future generations. Thank you. God bless you. And God bless the United States of America.<|endoftext|><|endoftext|><|endoftext|>\"]]"
      ]
     },
     "execution_count": 33,
     "metadata": {},
     "output_type": "execute_result"
    }
   ],
   "source": [
    "all_transcriptions"
   ]
  },
  {
   "cell_type": "markdown",
   "id": "1912510d",
   "metadata": {},
   "source": [
    "# Batching"
   ]
  },
  {
   "cell_type": "code",
   "execution_count": 34,
   "id": "a65e2583",
   "metadata": {},
   "outputs": [
    {
     "name": "stdout",
     "output_type": "stream",
     "text": [
      "CPU times: user 9min 43s, sys: 2min 39s, total: 12min 22s\n",
      "Wall time: 12 s\n"
     ]
    }
   ],
   "source": [
    "%%time\n",
    "all_transcriptions = []\n",
    "for k in range(0, reshaped_wav_array.shape[0], batch_size):\n",
    "    wav_data = [reshaped_wav_array[k+i,:] for i in range(batch_size)]\n",
    "    input_features = processor(wav_data, return_tensors='pt',sampling_rate=16000).input_features.half()\n",
    "    sample_output = pipelined_model.generate(input_features, max_length=max_length, min_length=3)\n",
    "    transcription = processor.batch_decode(sample_output, skip_special_tokens=False)\n",
    "    all_transcriptions.append(transcription)"
   ]
  },
  {
   "cell_type": "code",
   "execution_count": 35,
   "id": "6a46e9f0",
   "metadata": {},
   "outputs": [
    {
     "data": {
      "text/plain": [
       "(2, 19)"
      ]
     },
     "execution_count": 35,
     "metadata": {},
     "output_type": "execute_result"
    }
   ],
   "source": [
    "len(all_transcriptions[0]), len(all_transcriptions)"
   ]
  },
  {
   "cell_type": "markdown",
   "id": "076bfa47",
   "metadata": {},
   "source": [
    "# Pipelines\n",
    "\n",
    "Trying HF inference pipelines, in particular becuase it implements a 30-sec overlapping window (https://huggingface.co/openai/whisper-medium.en#long-form-transcription).\n",
    "\n",
    "Currently doesn't work."
   ]
  },
  {
   "cell_type": "code",
   "execution_count": null,
   "id": "d8a4e7c4",
   "metadata": {},
   "outputs": [],
   "source": [
    "from optimum.graphcore import pipeline\n",
    "# NOTE: you'll need ffpmeg installed on the system (apt install ffmpeg)\n",
    "!pip install ffmpeg"
   ]
  },
  {
   "cell_type": "code",
   "execution_count": null,
   "id": "07313ccd",
   "metadata": {},
   "outputs": [],
   "source": [
    "processor.sampling_rate=16000\n",
    "feature_extractor._processor_class"
   ]
  },
  {
   "cell_type": "code",
   "execution_count": null,
   "id": "833fe59b",
   "metadata": {},
   "outputs": [],
   "source": [
    "tokenizer = WhisperTokenizer.from_pretrained(\"openai/whisper-tiny.en\", language='english')\n",
    "pp = pipeline(\"automatic-speech-recognition\", \n",
    "              model=pipelined_model, \n",
    "              config=ipu_config)"
   ]
  },
  {
   "cell_type": "code",
   "execution_count": null,
   "id": "9c8061c3",
   "metadata": {
    "scrolled": false
   },
   "outputs": [],
   "source": [
    "%%time\n",
    "pp('Barack_Obama_inauguration_speech_2009.ogg', \n",
    "   chunk_length_s=30, \n",
    "   stride_length_s=[6,0], \n",
    "   batch_size=32)"
   ]
  },
  {
   "cell_type": "code",
   "execution_count": null,
   "id": "71f01d34",
   "metadata": {},
   "outputs": [],
   "source": [
    "PipelinedWhisperForConditionalGeneration"
   ]
  },
  {
   "cell_type": "code",
   "execution_count": null,
   "id": "93fbf4d0",
   "metadata": {},
   "outputs": [],
   "source": [
    "from optimum.graphcore.models import whisper\n"
   ]
  },
  {
   "cell_type": "code",
   "execution_count": null,
   "id": "bd4d3cae",
   "metadata": {},
   "outputs": [],
   "source": [
    "whisper.PipelinedWhisperForConditionalGeneration"
   ]
  },
  {
   "cell_type": "code",
   "execution_count": null,
   "id": "d3dab6fd",
   "metadata": {},
   "outputs": [],
   "source": []
  }
 ],
 "metadata": {
  "kernelspec": {
   "display_name": "Python 3 (ipykernel)",
   "language": "python",
   "name": "python3"
  },
  "language_info": {
   "codemirror_mode": {
    "name": "ipython",
    "version": 3
   },
   "file_extension": ".py",
   "mimetype": "text/x-python",
   "name": "python",
   "nbconvert_exporter": "python",
   "pygments_lexer": "ipython3",
   "version": "3.8.10"
  }
 },
 "nbformat": 4,
 "nbformat_minor": 5
}
