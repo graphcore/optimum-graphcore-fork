{
 "cells": [
  {
   "cell_type": "markdown",
   "metadata": {},
   "source": [
    "## Stable Diffusion Text-to-Image Generation on IPU\n",
    "\n",
    "This notebook demonstrates how a stable diffusion inference pipeline can be run on Graphcore IPUs.\n",
    "\n",
    "### Requirements\n",
    "\n",
    "* An enabled Poplar SDK environment (or Paperspace account with access to the PyTorch IPU runtime)\n",
    "* Additional dependencies installable via pip (done below)\n",
    "* Access to the pretrained Stable-Diffusion-v1-5 checkpoint (done below)"
   ]
  },
  {
   "cell_type": "code",
   "execution_count": 1,
   "metadata": {},
   "outputs": [],
   "source": [
    "%%capture\n",
    "!pip install -r requirements.txt\n",
    "!pip install \"ipywidgets>=7,<8\""
   ]
  },
  {
   "cell_type": "markdown",
   "metadata": {},
   "source": [
    "Values for machine size and cache directories can be configured through environment variables or directly in the notebook:"
   ]
  },
  {
   "cell_type": "code",
   "execution_count": null,
   "metadata": {},
   "outputs": [],
   "source": [
    "import os\n",
    "\n",
    "pod_type = os.getenv(\"GRAPHCORE_POD_TYPE\", \"pod16\")\n",
    "executable_cache_dir = os.getenv(\"POPLAR_EXECUTABLE_CACHE_DIR\", \"/tmp/exe_cache/\")"
   ]
  },
  {
   "cell_type": "markdown",
   "metadata": {},
   "source": [
    "To download the pretrained Stable-Diffusion-v1-5 checkpoint, we must first authenticate to the Hugging Face Hub. Begin by storing your authentication token from the Hugging Face website (sign up [here](https://huggingface.co/join) if you haven't already!) then execute the following cell and input your read token:"
   ]
  },
  {
   "cell_type": "code",
   "execution_count": 3,
   "metadata": {},
   "outputs": [
    {
     "name": "stdout",
     "output_type": "stream",
     "text": [
      "Login successful\n",
      "Your token has been saved to /home/alexandrep/.huggingface/token\n",
      "\u001b[1m\u001b[31mAuthenticated through git-credential store but this isn't the helper defined on your machine.\n",
      "You might have to re-authenticate when pushing to the Hugging Face Hub. Run the following command in your terminal in case you want to set this credential helper as the default\n",
      "\n",
      "git config --global credential.helper store\u001b[0m\n"
     ]
    }
   ],
   "source": [
    "from huggingface_hub import notebook_login\n",
    "\n",
    "notebook_login()"
   ]
  },
  {
   "cell_type": "markdown",
   "metadata": {},
   "source": [
    "If you have not done so already, you will need to accept the User License on the [model page](https://huggingface.co/runwayml/stable-diffusion-v1-5)."
   ]
  },
  {
   "cell_type": "markdown",
   "metadata": {},
   "source": [
    "We are now ready to import and run the pipeline."
   ]
  },
  {
   "cell_type": "code",
   "execution_count": 4,
   "metadata": {},
   "outputs": [],
   "source": [
    "import torch\n",
    "\n",
    "from ipu_models import IPUStableDiffusionPipeline"
   ]
  },
  {
   "cell_type": "code",
   "execution_count": 7,
   "metadata": {},
   "outputs": [
    {
     "name": "stderr",
     "output_type": "stream",
     "text": [
      "Cannot initialize model with low cpu memory usage because `accelerate` was not found in the environment. Defaulting to `low_cpu_mem_usage=False`. It is strongly recommended to install `accelerate` for faster and less memory-intense model loading. You can do so with: \n",
      "```\n",
      "pip install accelerate\n",
      "```\n",
      ".\n"
     ]
    },
    {
     "data": {
      "application/vnd.jupyter.widget-view+json": {
       "model_id": "630271f01c0d4a59a997a05220ae41b1",
       "version_major": 2,
       "version_minor": 0
      },
      "text/plain": [
       "Downloading:   0%|          | 0.00/543 [00:00<?, ?B/s]"
      ]
     },
     "metadata": {},
     "output_type": "display_data"
    },
    {
     "data": {
      "application/vnd.jupyter.widget-view+json": {
       "model_id": "2e76b449ed034637b76254c1aa96270d",
       "version_major": 2,
       "version_minor": 0
      },
      "text/plain": [
       "Fetching 15 files:   0%|          | 0/15 [00:00<?, ?it/s]"
      ]
     },
     "metadata": {},
     "output_type": "display_data"
    },
    {
     "data": {
      "application/vnd.jupyter.widget-view+json": {
       "model_id": "8848d95f2bde4b4882bcf98f19d7b58c",
       "version_major": 2,
       "version_minor": 0
      },
      "text/plain": [
       "Downloading:   0%|          | 0.00/342 [00:00<?, ?B/s]"
      ]
     },
     "metadata": {},
     "output_type": "display_data"
    },
    {
     "data": {
      "application/vnd.jupyter.widget-view+json": {
       "model_id": "4fe6284fa3944a0ca5d647f509e9e6c0",
       "version_major": 2,
       "version_minor": 0
      },
      "text/plain": [
       "Downloading:   0%|          | 0.00/4.70k [00:00<?, ?B/s]"
      ]
     },
     "metadata": {},
     "output_type": "display_data"
    },
    {
     "data": {
      "application/vnd.jupyter.widget-view+json": {
       "model_id": "e11cf28df77445ae8e388ed873d7d642",
       "version_major": 2,
       "version_minor": 0
      },
      "text/plain": [
       "Downloading:   0%|          | 0.00/608M [00:00<?, ?B/s]"
      ]
     },
     "metadata": {},
     "output_type": "display_data"
    },
    {
     "data": {
      "application/vnd.jupyter.widget-view+json": {
       "model_id": "a2ca31a9bd694bd1a2b092726f53f60f",
       "version_major": 2,
       "version_minor": 0
      },
      "text/plain": [
       "Downloading:   0%|          | 0.00/284 [00:00<?, ?B/s]"
      ]
     },
     "metadata": {},
     "output_type": "display_data"
    },
    {
     "data": {
      "application/vnd.jupyter.widget-view+json": {
       "model_id": "dc26fbfc677c4242919a9c2fdadc90e8",
       "version_major": 2,
       "version_minor": 0
      },
      "text/plain": [
       "Downloading:   0%|          | 0.00/636 [00:00<?, ?B/s]"
      ]
     },
     "metadata": {},
     "output_type": "display_data"
    },
    {
     "data": {
      "application/vnd.jupyter.widget-view+json": {
       "model_id": "92c53f3df3f4454d82cebd58838a7da4",
       "version_major": 2,
       "version_minor": 0
      },
      "text/plain": [
       "Downloading:   0%|          | 0.00/246M [00:00<?, ?B/s]"
      ]
     },
     "metadata": {},
     "output_type": "display_data"
    },
    {
     "data": {
      "application/vnd.jupyter.widget-view+json": {
       "model_id": "d95fa2ff06a549e5b383831c4312ec4d",
       "version_major": 2,
       "version_minor": 0
      },
      "text/plain": [
       "Downloading:   0%|          | 0.00/525k [00:00<?, ?B/s]"
      ]
     },
     "metadata": {},
     "output_type": "display_data"
    },
    {
     "data": {
      "application/vnd.jupyter.widget-view+json": {
       "model_id": "cca7b04a3ead44cfbd00223b0d6f3170",
       "version_major": 2,
       "version_minor": 0
      },
      "text/plain": [
       "Downloading:   0%|          | 0.00/472 [00:00<?, ?B/s]"
      ]
     },
     "metadata": {},
     "output_type": "display_data"
    },
    {
     "data": {
      "application/vnd.jupyter.widget-view+json": {
       "model_id": "c9b9b631948c4effbfb5f6dcf654f0bc",
       "version_major": 2,
       "version_minor": 0
      },
      "text/plain": [
       "Downloading:   0%|          | 0.00/822 [00:00<?, ?B/s]"
      ]
     },
     "metadata": {},
     "output_type": "display_data"
    },
    {
     "data": {
      "application/vnd.jupyter.widget-view+json": {
       "model_id": "069f87be865141c8844e2945f16666e6",
       "version_major": 2,
       "version_minor": 0
      },
      "text/plain": [
       "Downloading:   0%|          | 0.00/1.06M [00:00<?, ?B/s]"
      ]
     },
     "metadata": {},
     "output_type": "display_data"
    },
    {
     "data": {
      "application/vnd.jupyter.widget-view+json": {
       "model_id": "4e72923e54d744f0847844d3eaa73d84",
       "version_major": 2,
       "version_minor": 0
      },
      "text/plain": [
       "Downloading:   0%|          | 0.00/806 [00:00<?, ?B/s]"
      ]
     },
     "metadata": {},
     "output_type": "display_data"
    },
    {
     "data": {
      "application/vnd.jupyter.widget-view+json": {
       "model_id": "eaae761a34ca435295ca49cbbdbd41be",
       "version_major": 2,
       "version_minor": 0
      },
      "text/plain": [
       "Downloading:   0%|          | 0.00/1.72G [00:00<?, ?B/s]"
      ]
     },
     "metadata": {},
     "output_type": "display_data"
    },
    {
     "data": {
      "application/vnd.jupyter.widget-view+json": {
       "model_id": "4bb6e34a18154eab843e53e5766d84a4",
       "version_major": 2,
       "version_minor": 0
      },
      "text/plain": [
       "Downloading:   0%|          | 0.00/609 [00:00<?, ?B/s]"
      ]
     },
     "metadata": {},
     "output_type": "display_data"
    },
    {
     "data": {
      "application/vnd.jupyter.widget-view+json": {
       "model_id": "ab5f95686346453d854500eb1bdebaf0",
       "version_major": 2,
       "version_minor": 0
      },
      "text/plain": [
       "Downloading:   0%|          | 0.00/167M [00:00<?, ?B/s]"
      ]
     },
     "metadata": {},
     "output_type": "display_data"
    },
    {
     "name": "stderr",
     "output_type": "stream",
     "text": [
      "ftfy or spacy is not installed using BERT BasicTokenizer instead of ftfy.\n",
      "/home/alexandrep/sdk-envs/3.0.0+1145/3.0.0+1145_poptorch/lib/python3.8/site-packages/optimum/graphcore/ipu_configuration.py:140: UserWarning: The \"sharded_execution_for_inference\" parameter is deprecated, sharded execution is always used during inference\n",
      "  warnings.warn(\n"
     ]
    }
   ],
   "source": [
    "pipe = IPUStableDiffusionPipeline.from_pretrained(\n",
    "    \"runwayml/stable-diffusion-v1-5\", \n",
    "    revision=\"fp16\", \n",
    "    torch_dtype=torch.float16,\n",
    "    ipu_config={\n",
    "        \"executable_cache_dir\": executable_cache_dir,\n",
    "    }\n",
    ")\n",
    "pipe.enable_attention_slicing()"
   ]
  },
  {
   "cell_type": "markdown",
   "metadata": {},
   "source": [
    "We run a dummy generation step to trigger the one-time compilation process. This should take on the order of 15 minutes."
   ]
  },
  {
   "cell_type": "code",
   "execution_count": 8,
   "metadata": {
    "scrolled": true
   },
   "outputs": [
    {
     "data": {
      "application/vnd.jupyter.widget-view+json": {
       "model_id": "eb49bd8dd0d14e759bcdcced27620406",
       "version_major": 2,
       "version_minor": 0
      },
      "text/plain": [
       "  0%|          | 0/51 [00:00<?, ?it/s]"
      ]
     },
     "metadata": {},
     "output_type": "display_data"
    },
    {
     "name": "stderr",
     "output_type": "stream",
     "text": [
      "[17:49:11.403] [poptorch:cpp] [warning] [TRACING-2] Allocated tensor: 1375 sizes=[], type=Int (type coerced from Long to Int)\n",
      "[17:49:11.405] [poptorch:cpp] [warning] [TRACING-2] Tensor (ptr 0x211464d0) type coerced from Double to Float\n",
      "[17:49:11.405] [poptorch:cpp] [warning] [TRACING-2] Tensor (ptr 0x211464d0) type coerced from Long to Int\n",
      "[17:49:11.406] [poptorch:cpp] [warning] [TRACING-2] Tensor (ptr 0x211464d0) type coerced from Long to Int\n",
      "[17:49:11.412] [poptorch:cpp] [warning] [TRACING-2] Tensor (ptr 0xee58520) type coerced from Double to Float\n",
      "[17:49:11.415] [poptorch:cpp] [warning] [TRACING-2] Tensor (ptr 0x455c3220) type coerced from Double to Float\n",
      "[17:49:11.417] [poptorch:cpp] [warning] [TRACING-2] Tensor (ptr 0x455c3220) type coerced from Double to Float\n",
      "[17:49:11.418] [poptorch:cpp] [warning] [TRACING-2] Tensor (ptr 0x455c3220) type coerced from Double to Float\n",
      "[17:49:11.420] [poptorch:cpp] [warning] [TRACING-2] Tensor (ptr 0x455c3220) type coerced from Double to Float\n",
      "[17:49:11.424] [poptorch:cpp] [warning] [TRACING-2] Tensor (ptr 0x455c3220) type coerced from Double to Float\n",
      "[17:49:11.426] [poptorch:cpp] [warning] [TRACING-2] Tensor (ptr 0x455c3220) type coerced from Double to Float\n",
      "[17:49:11.427] [poptorch:cpp] [warning] [TRACING-2] Tensor (ptr 0x455c3220) type coerced from Double to Float\n",
      "[17:49:11.428] [poptorch:cpp] [warning] [TRACING-2] Tensor (ptr 0x455c3220) type coerced from Double to Float\n",
      "[17:49:11.436] [poptorch:cpp] [warning] [TRACING-2] Tensor (ptr 0x4e2219d0) type coerced from Double to Float\n",
      "[17:49:11.439] [poptorch:cpp] [warning] [TRACING-2] Tensor (ptr 0x4e22d190) type coerced from Double to Float\n",
      "[17:49:11.441] [poptorch:cpp] [warning] [TRACING-2] Tensor (ptr 0x4e22d190) type coerced from Double to Float\n",
      "[17:49:11.442] [poptorch:cpp] [warning] [TRACING-2] Tensor (ptr 0x4e22d190) type coerced from Double to Float\n",
      "[17:49:11.443] [poptorch:cpp] [warning] [TRACING-2] Tensor (ptr 0x4e22d190) type coerced from Double to Float\n",
      "[17:49:11.448] [poptorch:cpp] [warning] [TRACING-2] Tensor (ptr 0x4e22d190) type coerced from Double to Float\n",
      "[17:49:11.450] [poptorch:cpp] [warning] [TRACING-2] Tensor (ptr 0x4e22d190) type coerced from Double to Float\n",
      "[17:49:11.451] [poptorch:cpp] [warning] [TRACING-2] Tensor (ptr 0x4e22d190) type coerced from Double to Float\n",
      "[17:49:11.452] [poptorch:cpp] [warning] [TRACING-2] Tensor (ptr 0x4e22d190) type coerced from Double to Float\n",
      "[17:49:11.460] [poptorch:cpp] [warning] [TRACING-2] Tensor (ptr 0x34c58940) type coerced from Double to Float\n",
      "[17:49:11.464] [poptorch:cpp] [warning] [TRACING-2] Tensor (ptr 0x43e9de30) type coerced from Double to Float\n",
      "[17:49:11.465] [poptorch:cpp] [warning] [TRACING-2] Tensor (ptr 0x43e9de30) type coerced from Double to Float\n",
      "[17:49:11.467] [poptorch:cpp] [warning] [TRACING-2] Tensor (ptr 0x43e9de30) type coerced from Double to Float\n",
      "[17:49:11.468] [poptorch:cpp] [warning] [TRACING-2] Tensor (ptr 0x43e9de30) type coerced from Double to Float\n",
      "[17:49:11.473] [poptorch:cpp] [warning] [TRACING-2] Tensor (ptr 0x43e9de30) type coerced from Double to Float\n",
      "[17:49:11.474] [poptorch:cpp] [warning] [TRACING-2] Tensor (ptr 0x43e9de30) type coerced from Double to Float\n",
      "[17:49:11.475] [poptorch:cpp] [warning] [TRACING-2] Tensor (ptr 0x43e9de30) type coerced from Double to Float\n",
      "[17:49:11.477] [poptorch:cpp] [warning] [TRACING-2] Tensor (ptr 0x43e9de30) type coerced from Double to Float\n",
      "[17:49:11.484] [poptorch:cpp] [warning] [TRACING-2] Tensor (ptr 0x149446b0) type coerced from Double to Float\n",
      "[17:49:11.488] [poptorch:cpp] [warning] [TRACING-2] Tensor (ptr 0x42dfda90) type coerced from Double to Float\n",
      "[17:49:11.489] [poptorch:cpp] [warning] [TRACING-2] Tensor (ptr 0x42dfda90) type coerced from Double to Float\n",
      "[17:49:11.490] [poptorch:cpp] [warning] [TRACING-2] Tensor (ptr 0x42dfda90) type coerced from Double to Float\n",
      "[17:49:11.492] [poptorch:cpp] [warning] [TRACING-2] Tensor (ptr 0x42dfda90) type coerced from Double to Float\n",
      "[17:49:11.496] [poptorch:cpp] [warning] [TRACING-2] Tensor (ptr 0x42dfda90) type coerced from Double to Float\n",
      "[17:49:11.498] [poptorch:cpp] [warning] [TRACING-2] Tensor (ptr 0x42dfda90) type coerced from Double to Float\n",
      "[17:49:11.499] [poptorch:cpp] [warning] [TRACING-2] Tensor (ptr 0x42dfda90) type coerced from Double to Float\n",
      "[17:49:11.500] [poptorch:cpp] [warning] [TRACING-2] Tensor (ptr 0x42dfda90) type coerced from Double to Float\n",
      "[17:49:11.508] [poptorch:cpp] [warning] [TRACING-2] Tensor (ptr 0x11de8010) type coerced from Double to Float\n",
      "[17:49:11.512] [poptorch:cpp] [warning] [TRACING-2] Tensor (ptr 0x11deefa0) type coerced from Double to Float\n",
      "[17:49:11.513] [poptorch:cpp] [warning] [TRACING-2] Tensor (ptr 0x11deefa0) type coerced from Double to Float\n",
      "[17:49:11.515] [poptorch:cpp] [warning] [TRACING-2] Tensor (ptr 0x11deefa0) type coerced from Double to Float\n",
      "[17:49:11.516] [poptorch:cpp] [warning] [TRACING-2] Tensor (ptr 0x11deefa0) type coerced from Double to Float\n",
      "[17:49:11.521] [poptorch:cpp] [warning] [TRACING-2] Tensor (ptr 0x11deefa0) type coerced from Double to Float\n",
      "[17:49:11.522] [poptorch:cpp] [warning] [TRACING-2] Tensor (ptr 0x11deefa0) type coerced from Double to Float\n",
      "[17:49:11.524] [poptorch:cpp] [warning] [TRACING-2] Tensor (ptr 0x11deefa0) type coerced from Double to Float\n",
      "[17:49:11.525] [poptorch:cpp] [warning] [TRACING-2] Tensor (ptr 0x11deefa0) type coerced from Double to Float\n",
      "[17:49:11.532] [poptorch:cpp] [warning] [TRACING-2] Tensor (ptr 0x46da9480) type coerced from Double to Float\n",
      "[17:49:11.536] [poptorch:cpp] [warning] [TRACING-2] Tensor (ptr 0x46db4970) type coerced from Double to Float\n",
      "[17:49:11.537] [poptorch:cpp] [warning] [TRACING-2] Tensor (ptr 0x46db4970) type coerced from Double to Float\n",
      "[17:49:11.539] [poptorch:cpp] [warning] [TRACING-2] Tensor (ptr 0x46db4970) type coerced from Double to Float\n",
      "[17:49:11.540] [poptorch:cpp] [warning] [TRACING-2] Tensor (ptr 0x46db4970) type coerced from Double to Float\n",
      "[17:49:11.545] [poptorch:cpp] [warning] [TRACING-2] Tensor (ptr 0x46db4970) type coerced from Double to Float\n",
      "[17:49:11.546] [poptorch:cpp] [warning] [TRACING-2] Tensor (ptr 0x46db4970) type coerced from Double to Float\n",
      "[17:49:11.547] [poptorch:cpp] [warning] [TRACING-2] Tensor (ptr 0x46db4970) type coerced from Double to Float\n",
      "[17:49:11.549] [poptorch:cpp] [warning] [TRACING-2] Tensor (ptr 0x46db4970) type coerced from Double to Float\n",
      "[17:49:11.556] [poptorch:cpp] [warning] [TRACING-2] Tensor (ptr 0x5358bbd0) type coerced from Double to Float\n",
      "[17:49:11.559] [poptorch:cpp] [warning] [TRACING-2] Tensor (ptr 0x515ac020) type coerced from Double to Float\n",
      "[17:49:11.562] [poptorch:cpp] [warning] [TRACING-2] Tensor (ptr 0x515c9ee0) type coerced from Long to Int\n",
      "[17:49:11.566] [poptorch:cpp] [warning] [TRACING-2] Tensor (ptr 0x515d4ba0) type coerced from Double to Float\n",
      "[17:49:11.567] [poptorch:cpp] [warning] [TRACING-2] Tensor (ptr 0x515d4ba0) type coerced from Double to Float\n",
      "[17:49:11.568] [poptorch:cpp] [warning] [TRACING-2] Tensor (ptr 0x515d4ba0) type coerced from Double to Float\n",
      "[17:49:11.570] [poptorch:cpp] [warning] [TRACING-2] Tensor (ptr 0x515d4ba0) type coerced from Double to Float\n",
      "[17:49:11.574] [poptorch:cpp] [warning] [TRACING-2] Tensor (ptr 0x515d4ba0) type coerced from Double to Float\n",
      "[17:49:11.576] [poptorch:cpp] [warning] [TRACING-2] Tensor (ptr 0x515d4ba0) type coerced from Double to Float\n",
      "[17:49:11.577] [poptorch:cpp] [warning] [TRACING-2] Tensor (ptr 0x515d4ba0) type coerced from Double to Float\n",
      "[17:49:11.578] [poptorch:cpp] [warning] [TRACING-2] Tensor (ptr 0x515d4ba0) type coerced from Double to Float\n",
      "[17:49:11.586] [poptorch:cpp] [warning] [TRACING-2] Tensor (ptr 0x2bf5f440) type coerced from Long to Int\n",
      "[17:49:11.589] [poptorch:cpp] [warning] [TRACING-2] Tensor (ptr 0x2bf82070) type coerced from Double to Float\n",
      "[17:49:11.592] [poptorch:cpp] [warning] [TRACING-2] Tensor (ptr 0x2bfa3d90) type coerced from Double to Float\n",
      "[17:49:11.595] [poptorch:cpp] [warning] [TRACING-2] Tensor (ptr 0x2bac5130) type coerced from Double to Float\n",
      "[17:49:11.599] [poptorch:cpp] [warning] [TRACING-2] Tensor (ptr 0x2baef400) type coerced from Double to Float\n",
      "[17:49:11.602] [poptorch:cpp] [warning] [TRACING-2] Tensor (ptr 0x2bafdbd0) type coerced from Double to Float\n",
      "[17:49:11.604] [poptorch:cpp] [warning] [TRACING-2] Tensor (ptr 0x2bafdbd0) type coerced from Double to Float\n"
     ]
    },
    {
     "name": "stderr",
     "output_type": "stream",
     "text": [
      "[17:49:11.606] [poptorch:cpp] [warning] [TRACING-2] Tensor (ptr 0x2bafdbd0) type coerced from Double to Float\n",
      "[17:49:11.607] [poptorch:cpp] [warning] [TRACING-2] Tensor (ptr 0x2bafdbd0) type coerced from Double to Float\n",
      "[17:49:11.612] [poptorch:cpp] [warning] [TRACING-2] Tensor (ptr 0x2bafdbd0) type coerced from Double to Float\n",
      "[17:49:11.613] [poptorch:cpp] [warning] [TRACING-2] Tensor (ptr 0x2bafdbd0) type coerced from Double to Float\n",
      "[17:49:11.615] [poptorch:cpp] [warning] [TRACING-2] Tensor (ptr 0x2bafdbd0) type coerced from Double to Float\n",
      "[17:49:11.616] [poptorch:cpp] [warning] [TRACING-2] Tensor (ptr 0x2bafdbd0) type coerced from Double to Float\n",
      "[17:49:11.623] [poptorch:cpp] [warning] [TRACING-2] Tensor (ptr 0xf325100) type coerced from Double to Float\n",
      "[17:49:11.627] [poptorch:cpp] [warning] [TRACING-2] Tensor (ptr 0xf32ebb0) type coerced from Double to Float\n",
      "[17:49:11.628] [poptorch:cpp] [warning] [TRACING-2] Tensor (ptr 0xf32ebb0) type coerced from Double to Float\n",
      "[17:49:11.630] [poptorch:cpp] [warning] [TRACING-2] Tensor (ptr 0xf32ebb0) type coerced from Double to Float\n",
      "[17:49:11.631] [poptorch:cpp] [warning] [TRACING-2] Tensor (ptr 0xf32ebb0) type coerced from Double to Float\n",
      "[17:49:11.636] [poptorch:cpp] [warning] [TRACING-2] Tensor (ptr 0xf32ebb0) type coerced from Double to Float\n",
      "[17:49:11.637] [poptorch:cpp] [warning] [TRACING-2] Tensor (ptr 0xf32ebb0) type coerced from Double to Float\n",
      "[17:49:11.639] [poptorch:cpp] [warning] [TRACING-2] Tensor (ptr 0xf32ebb0) type coerced from Double to Float\n",
      "[17:49:11.640] [poptorch:cpp] [warning] [TRACING-2] Tensor (ptr 0xf32ebb0) type coerced from Double to Float\n",
      "[17:49:11.648] [poptorch:cpp] [warning] [TRACING-2] Tensor (ptr 0x1044fe10) type coerced from Double to Float\n",
      "[17:49:11.651] [poptorch:cpp] [warning] [TRACING-2] Tensor (ptr 0x1045b090) type coerced from Double to Float\n",
      "[17:49:11.653] [poptorch:cpp] [warning] [TRACING-2] Tensor (ptr 0x1045b090) type coerced from Double to Float\n",
      "[17:49:11.654] [poptorch:cpp] [warning] [TRACING-2] Tensor (ptr 0x1045b090) type coerced from Double to Float\n",
      "[17:49:11.655] [poptorch:cpp] [warning] [TRACING-2] Tensor (ptr 0x1045b090) type coerced from Double to Float\n",
      "[17:49:11.660] [poptorch:cpp] [warning] [TRACING-2] Tensor (ptr 0x1045b090) type coerced from Double to Float\n",
      "[17:49:11.662] [poptorch:cpp] [warning] [TRACING-2] Tensor (ptr 0x1045b090) type coerced from Double to Float\n",
      "[17:49:11.663] [poptorch:cpp] [warning] [TRACING-2] Tensor (ptr 0x1045b090) type coerced from Double to Float\n",
      "[17:49:11.664] [poptorch:cpp] [warning] [TRACING-2] Tensor (ptr 0x1045b090) type coerced from Double to Float\n",
      "[17:49:11.673] [poptorch:cpp] [warning] [TRACING-2] Tensor (ptr 0x120f3a00) type coerced from Double to Float\n",
      "[17:49:11.676] [poptorch:cpp] [warning] [TRACING-2] Tensor (ptr 0x120fea40) type coerced from Double to Float\n",
      "[17:49:11.678] [poptorch:cpp] [warning] [TRACING-2] Tensor (ptr 0x120fea40) type coerced from Double to Float\n",
      "[17:49:11.679] [poptorch:cpp] [warning] [TRACING-2] Tensor (ptr 0x120fea40) type coerced from Double to Float\n",
      "[17:49:11.680] [poptorch:cpp] [warning] [TRACING-2] Tensor (ptr 0x120fea40) type coerced from Double to Float\n",
      "[17:49:11.685] [poptorch:cpp] [warning] [TRACING-2] Tensor (ptr 0x120fea40) type coerced from Double to Float\n",
      "[17:49:11.686] [poptorch:cpp] [warning] [TRACING-2] Tensor (ptr 0x120fea40) type coerced from Double to Float\n",
      "[17:49:11.688] [poptorch:cpp] [warning] [TRACING-2] Tensor (ptr 0x120fea40) type coerced from Double to Float\n",
      "[17:49:11.689] [poptorch:cpp] [warning] [TRACING-2] Tensor (ptr 0x120fea40) type coerced from Double to Float\n",
      "[17:49:11.697] [poptorch:cpp] [warning] [TRACING-2] Tensor (ptr 0x4f2af020) type coerced from Double to Float\n",
      "[17:49:11.701] [poptorch:cpp] [warning] [TRACING-2] Tensor (ptr 0x4f2b8b00) type coerced from Double to Float\n",
      "[17:49:11.702] [poptorch:cpp] [warning] [TRACING-2] Tensor (ptr 0x4f2b8b00) type coerced from Double to Float\n",
      "[17:49:11.703] [poptorch:cpp] [warning] [TRACING-2] Tensor (ptr 0x4f2b8b00) type coerced from Double to Float\n",
      "[17:49:11.705] [poptorch:cpp] [warning] [TRACING-2] Tensor (ptr 0x4f2b8b00) type coerced from Double to Float\n",
      "[17:49:11.710] [poptorch:cpp] [warning] [TRACING-2] Tensor (ptr 0x4f2b8b00) type coerced from Double to Float\n",
      "[17:49:11.711] [poptorch:cpp] [warning] [TRACING-2] Tensor (ptr 0x4f2b8b00) type coerced from Double to Float\n",
      "[17:49:11.713] [poptorch:cpp] [warning] [TRACING-2] Tensor (ptr 0x4f2b8b00) type coerced from Double to Float\n",
      "[17:49:11.714] [poptorch:cpp] [warning] [TRACING-2] Tensor (ptr 0x4f2b8b00) type coerced from Double to Float\n",
      "[17:49:11.721] [poptorch:cpp] [warning] [TRACING-2] Tensor (ptr 0xd0b9880) type coerced from Double to Float\n",
      "[17:49:11.725] [poptorch:cpp] [warning] [TRACING-2] Tensor (ptr 0xd0c4420) type coerced from Double to Float\n",
      "[17:49:11.726] [poptorch:cpp] [warning] [TRACING-2] Tensor (ptr 0xd0c4420) type coerced from Double to Float\n",
      "[17:49:11.728] [poptorch:cpp] [warning] [TRACING-2] Tensor (ptr 0xd0c4420) type coerced from Double to Float\n",
      "[17:49:11.729] [poptorch:cpp] [warning] [TRACING-2] Tensor (ptr 0xd0c4420) type coerced from Double to Float\n",
      "[17:49:11.734] [poptorch:cpp] [warning] [TRACING-2] Tensor (ptr 0xd0c4420) type coerced from Double to Float\n",
      "[17:49:11.735] [poptorch:cpp] [warning] [TRACING-2] Tensor (ptr 0xd0c4420) type coerced from Double to Float\n",
      "[17:49:11.737] [poptorch:cpp] [warning] [TRACING-2] Tensor (ptr 0xd0c4420) type coerced from Double to Float\n",
      "[17:49:11.738] [poptorch:cpp] [warning] [TRACING-2] Tensor (ptr 0xd0c4420) type coerced from Double to Float\n",
      "[17:49:11.746] [poptorch:cpp] [warning] [TRACING-2] Tensor (ptr 0x118bd470) type coerced from Double to Float\n",
      "[17:49:11.750] [poptorch:cpp] [warning] [TRACING-2] Tensor (ptr 0x118c86a0) type coerced from Double to Float\n",
      "[17:49:11.751] [poptorch:cpp] [warning] [TRACING-2] Tensor (ptr 0x118c86a0) type coerced from Double to Float\n",
      "[17:49:11.752] [poptorch:cpp] [warning] [TRACING-2] Tensor (ptr 0x118c86a0) type coerced from Double to Float\n",
      "[17:49:11.754] [poptorch:cpp] [warning] [TRACING-2] Tensor (ptr 0x118c86a0) type coerced from Double to Float\n",
      "[17:49:11.760] [poptorch:cpp] [warning] [TRACING-2] Tensor (ptr 0x118c86a0) type coerced from Double to Float\n",
      "[17:49:11.761] [poptorch:cpp] [warning] [TRACING-2] Tensor (ptr 0x118c86a0) type coerced from Double to Float\n",
      "[17:49:11.762] [poptorch:cpp] [warning] [TRACING-2] Tensor (ptr 0x118c86a0) type coerced from Double to Float\n",
      "[17:49:11.765] [poptorch:cpp] [warning] [TRACING-2] Tensor (ptr 0x118c86a0) type coerced from Double to Float\n",
      "[17:49:11.772] [poptorch:cpp] [warning] [TRACING-2] Tensor (ptr 0x56716240) type coerced from Double to Float\n",
      "[17:49:11.776] [poptorch:cpp] [warning] [TRACING-2] Tensor (ptr 0x5671e4e0) type coerced from Double to Float\n",
      "[17:49:11.777] [poptorch:cpp] [warning] [TRACING-2] Tensor (ptr 0x5671e4e0) type coerced from Double to Float\n",
      "[17:49:11.779] [poptorch:cpp] [warning] [TRACING-2] Tensor (ptr 0x5671e4e0) type coerced from Double to Float\n",
      "[17:49:11.780] [poptorch:cpp] [warning] [TRACING-2] Tensor (ptr 0x5671e4e0) type coerced from Double to Float\n",
      "[17:49:11.785] [poptorch:cpp] [warning] [TRACING-2] Tensor (ptr 0x5671e4e0) type coerced from Double to Float\n",
      "[17:49:11.786] [poptorch:cpp] [warning] [TRACING-2] Tensor (ptr 0x5671e4e0) type coerced from Double to Float\n",
      "[17:49:11.787] [poptorch:cpp] [warning] [TRACING-2] Tensor (ptr 0x5671e4e0) type coerced from Double to Float\n",
      "[17:49:11.789] [poptorch:cpp] [warning] [TRACING-2] Tensor (ptr 0x5671e4e0) type coerced from Double to Float\n",
      "[17:49:11.796] [poptorch:cpp] [warning] [TRACING-2] Tensor (ptr 0x1266fbd0) type coerced from Double to Float\n",
      "[17:49:11.800] [poptorch:cpp] [warning] [TRACING-2] Tensor (ptr 0x12678c40) type coerced from Double to Float\n",
      "[17:49:11.801] [poptorch:cpp] [warning] [TRACING-2] Tensor (ptr 0x12678c40) type coerced from Double to Float\n",
      "[17:49:11.803] [poptorch:cpp] [warning] [TRACING-2] Tensor (ptr 0x12678c40) type coerced from Double to Float\n",
      "[17:49:11.804] [poptorch:cpp] [warning] [TRACING-2] Tensor (ptr 0x12678c40) type coerced from Double to Float\n",
      "[17:49:11.809] [poptorch:cpp] [warning] [TRACING-2] Tensor (ptr 0x12678c40) type coerced from Double to Float\n",
      "[17:49:11.810] [poptorch:cpp] [warning] [TRACING-2] Tensor (ptr 0x12678c40) type coerced from Double to Float\n",
      "[17:49:11.812] [poptorch:cpp] [warning] [TRACING-2] Tensor (ptr 0x12678c40) type coerced from Double to Float\n",
      "[17:49:11.813] [poptorch:cpp] [warning] [TRACING-2] Tensor (ptr 0x12678c40) type coerced from Double to Float\n"
     ]
    },
    {
     "name": "stderr",
     "output_type": "stream",
     "text": [
      "\n",
      "Graph compilation:   0%|                             | 0/100 [00:00<?]\u001b[A\n",
      "Graph compilation:   3%|▊                        | 3/100 [01:22<44:14]\u001b[A\n",
      "Graph compilation:   4%|█                        | 4/100 [01:25<31:35]\u001b[A\n",
      "Graph compilation:   6%|█▌                       | 6/100 [01:57<28:00]\u001b[A\n",
      "Graph compilation:   7%|█▊                       | 7/100 [03:15<51:28]\u001b[A\n",
      "Graph compilation:  14%|███▎                    | 14/100 [03:15<13:25]\u001b[A\n",
      "Graph compilation:  17%|████                    | 17/100 [03:27<12:57]\u001b[A\n",
      "Graph compilation:  17%|████                    | 17/100 [03:27<10:37]\u001b[A\n",
      "Graph compilation:  18%|████▎                   | 18/100 [03:27<09:11]\u001b[A\n",
      "Graph compilation:  20%|████▊                   | 20/100 [03:40<08:57]\u001b[A\n",
      "Graph compilation:  20%|████▊                   | 20/100 [03:41<09:02]\u001b[A\n",
      "Graph compilation:  21%|█████                   | 21/100 [03:43<08:00]\u001b[A\n",
      "Graph compilation:  23%|█████▌                  | 23/100 [03:55<07:45]\u001b[A\n",
      "Graph compilation:  24%|█████▊                  | 24/100 [03:58<06:59]\u001b[A\n",
      "Graph compilation:  25%|██████                  | 25/100 [04:22<11:30]\u001b[A\n",
      "Graph compilation:  26%|██████▏                 | 26/100 [04:30<11:12]\u001b[A\n",
      "Graph compilation:  27%|██████▍                 | 27/100 [04:38<10:35]\u001b[A\n",
      "Graph compilation:  28%|██████▋                 | 28/100 [04:50<11:39]\u001b[A\n",
      "Graph compilation:  29%|██████▉                 | 29/100 [04:59<11:07]\u001b[A\n",
      "Graph compilation:  30%|███████▏                | 30/100 [05:09<11:03]\u001b[A\n",
      "Graph compilation:  31%|███████▍                | 31/100 [05:29<14:24]\u001b[A\n",
      "Graph compilation:  32%|███████▋                | 32/100 [05:54<18:25]\u001b[A\n",
      "Graph compilation:  33%|███████▉                | 33/100 [06:11<18:18]\u001b[A\n",
      "Graph compilation:  34%|████████▏               | 34/100 [06:12<13:09]\u001b[A\n",
      "Graph compilation:  35%|████████▍               | 35/100 [07:23<31:55]\u001b[A\n",
      "Graph compilation:  36%|████████▋               | 36/100 [07:27<23:15]\u001b[A\n",
      "Graph compilation:  37%|████████▉               | 37/100 [07:29<16:39]\u001b[A\n",
      "Graph compilation:  38%|█████████               | 38/100 [07:40<15:00]\u001b[A\n",
      "Graph compilation:  39%|█████████▎              | 39/100 [07:42<10:54]\u001b[A\n",
      "Graph compilation:  41%|█████████▊              | 41/100 [09:10<25:37]\u001b[A\n",
      "Graph compilation:  45%|██████████▊             | 45/100 [09:11<10:28]\u001b[A\n",
      "Graph compilation:  47%|███████████▎            | 47/100 [09:12<07:12]\u001b[A\n",
      "Graph compilation:  49%|███████████▊            | 49/100 [09:22<06:10]\u001b[A\n",
      "Graph compilation:  50%|████████████            | 50/100 [09:28<05:57]\u001b[A\n",
      "Graph compilation:  52%|████████████▍           | 52/100 [09:37<04:57]\u001b[A\n",
      "Graph compilation:  53%|████████████▋           | 53/100 [09:38<04:00]\u001b[A\n",
      "Graph compilation:  55%|█████████████▏          | 55/100 [09:56<04:59]\u001b[A\n",
      "Graph compilation:  57%|█████████████▋          | 57/100 [12:16<19:54]\u001b[A\n",
      "Graph compilation:  60%|██████████████▍         | 60/100 [12:16<10:47]\u001b[A\n",
      "Graph compilation:  61%|██████████████▋         | 61/100 [12:18<09:02]\u001b[A\n",
      "Graph compilation:  63%|███████████████         | 63/100 [12:21<06:01]\u001b[A\n",
      "Graph compilation:  65%|███████████████▌        | 65/100 [12:28<04:38]\u001b[A\n",
      "Graph compilation:  67%|████████████████        | 67/100 [12:32<03:20]\u001b[A\n",
      "Graph compilation:  73%|█████████████████▌      | 73/100 [12:34<01:13]\u001b[A\n",
      "Graph compilation:  74%|█████████████████▊      | 74/100 [12:34<01:03]\u001b[A\n",
      "Graph compilation:  75%|██████████████████      | 75/100 [12:41<01:18]\u001b[A\n",
      "Graph compilation:  76%|██████████████████▏     | 76/100 [12:42<01:07]\u001b[A\n",
      "Graph compilation:  79%|██████████████████▉     | 79/100 [12:43<00:34]\u001b[A\n",
      "Graph compilation:  80%|███████████████████▏    | 80/100 [12:43<00:28]\u001b[A\n",
      "Graph compilation:  82%|███████████████████▋    | 82/100 [12:45<00:24]\u001b[A\n",
      "Graph compilation:  83%|███████████████████▉    | 83/100 [12:49<00:28]\u001b[A\n",
      "Graph compilation:  85%|████████████████████▍   | 85/100 [12:51<00:22]\u001b[A\n",
      "Graph compilation:  86%|████████████████████▋   | 86/100 [12:57<00:33]\u001b[A\n",
      "Graph compilation:  87%|████████████████████▉   | 87/100 [12:57<00:24]\u001b[A\n",
      "Graph compilation:  88%|█████████████████████   | 88/100 [13:37<02:12]\u001b[A\n",
      "Graph compilation:  89%|█████████████████████▎  | 89/100 [13:39<01:38]\u001b[A\n",
      "Graph compilation:  90%|█████████████████████▌  | 90/100 [13:40<01:05]\u001b[A\n",
      "Graph compilation:  91%|█████████████████████▊  | 91/100 [13:41<00:45]\u001b[A\n",
      "Graph compilation:  92%|██████████████████████  | 92/100 [13:41<00:28]\u001b[A\n",
      "Graph compilation:  93%|██████████████████████▎ | 93/100 [13:41<00:18]\u001b[A\n",
      "Graph compilation:  94%|██████████████████████▌ | 94/100 [13:53<00:32]\u001b[A\n",
      "Graph compilation:  95%|██████████████████████▊ | 95/100 [13:53<00:19]\u001b[A\n",
      "Graph compilation:  96%|███████████████████████ | 96/100 [13:54<00:11]\u001b[A\n",
      "Graph compilation:  97%|███████████████████████▎| 97/100 [14:28<00:36]\u001b[A\n",
      "Graph compilation: 100%|███████████████████████| 100/100 [14:29<00:00]\u001b[A\n",
      "2022-11-15T18:06:03.961807Z popart:devicex 3653664.3653664 W: Specified directory not found. Creating \"./exe_cache\" directory \n"
     ]
    }
   ],
   "source": [
    "pipe(\"apple\", guidance_scale=7.5);"
   ]
  },
  {
   "cell_type": "markdown",
   "metadata": {},
   "source": [
    "Below you will find some example prompts. We encourage you to try your own!"
   ]
  },
  {
   "cell_type": "code",
   "execution_count": null,
   "metadata": {},
   "outputs": [],
   "source": [
    "prompt = \"a shiba inu in a zen garden, acrylic painting\"\n",
    "pipe(prompt, guidance_scale=7.5).images[0]"
   ]
  },
  {
   "cell_type": "code",
   "execution_count": null,
   "metadata": {},
   "outputs": [],
   "source": [
    "prompt = \"a photograph of an astronaut riding a horse\"\n",
    "pipe(prompt, guidance_scale=7.5).images[0]"
   ]
  },
  {
   "cell_type": "code",
   "execution_count": null,
   "metadata": {},
   "outputs": [],
   "source": [
    "prompt = \"the living room of a cozy wooden house with a fireplace\"\n",
    "pipe(prompt, guidance_scale=7.5).images[0]"
   ]
  }
 ],
 "metadata": {
  "kernelspec": {
   "display_name": "Python 3.8.10 ('3.0.0+1145_poptorch')",
   "language": "python",
   "name": "python3"
  },
  "language_info": {
   "codemirror_mode": {
    "name": "ipython",
    "version": 3
   },
   "file_extension": ".py",
   "mimetype": "text/x-python",
   "name": "python",
   "nbconvert_exporter": "python",
   "pygments_lexer": "ipython3",
   "version": "3.8.10"
  },
  "vscode": {
   "interpreter": {
    "hash": "bb566221b6fb66eb17be1e54d5bad447b448f6085074d60633cde4e94a153eec"
   }
  }
 },
 "nbformat": 4,
 "nbformat_minor": 2
}
