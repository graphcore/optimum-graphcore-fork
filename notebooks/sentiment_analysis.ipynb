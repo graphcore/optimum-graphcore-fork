{
 "cells": [
  {
   "cell_type": "markdown",
   "metadata": {},
   "source": [
    "# Sentiment analysis (using IPUs)\n",
    "\n",
    "Integration of the Graphcore Intelligence processing unit (IPU) and the HuggingFace transformer library means that it only takes a few lines of code to perform complex tasks which require deep learning.\n",
    "\n",
    "In this notebook we perform **sentiment analysis**: we use natural language processing models to classify text prompts. \n",
    "We follow [this blog post by Federico Pascual](https://huggingface.co/blog/sentiment-analysis-python) and test 5 different models available on HuggingFace Hub to highlight different model properties of the models that can be leveraged for downstream tasks.\n",
    "\n",
    "The ease of use of the `pipeline` interface lets us quickly experiment with the pre-trained models and identify which one will work best.\n",
    "This simple interface means that it is extremely easy to access the fast inference performance of the IPU on your application.\n",
    "\n",
    "![Widget inference on a text classification task](images/text_classification.png)\n",
    "\n",
    "While this notebook is focused on using the model (inference), our [text_classification](text_classification.ipynb) notebook will show you how to fine tune a model for a specific task using the `datasets` package."
   ]
  },
  {
   "cell_type": "markdown",
   "metadata": {},
   "source": [
    "First of all, lets make sure your environment has the latest version of [🤗 Optimum Graphcore](https://github.com/huggingface/optimum-graphcore) available."
   ]
  },
  {
   "cell_type": "code",
   "execution_count": null,
   "metadata": {},
   "outputs": [],
   "source": [
    "%pip install \"optimum-graphcore>=0.4, <0.5\"\n",
    "%pip install emoji==0.6.0"
   ]
  },
  {
   "cell_type": "code",
   "execution_count": null,
   "metadata": {},
   "outputs": [],
   "source": [
    "%load_ext autoreload\n",
    "%autoreload 2\n",
    "\n",
    "import os\n",
    "os.environ[\"POPTORCH_LOG_LEVEL\"] = \"ERR\""
   ]
  },
  {
   "cell_type": "markdown",
   "metadata": {},
   "source": [
    "## Using transformers pipelines on the IPU\n",
    "\n",
    "The simplest way to use a model on the IPU is to use the `pipeline` function. It provides a set of models which have been validated to work on a given task, to get started choose the task and call the `pipeline` function:"
   ]
  },
  {
   "cell_type": "code",
   "execution_count": null,
   "metadata": {},
   "outputs": [],
   "source": [
    "from optimum.graphcore import pipelines\n",
    "sentiment_pipeline = pipelines.pipeline(\"sentiment-analysis\")"
   ]
  },
  {
   "cell_type": "markdown",
   "metadata": {},
   "source": [
    "Because no model was supplied the pipeline defaulted to `distilbert-base-uncased-finetuned-sst-2-english`. We are helpfully warned that we should provide the `max_length` argument if we were to put this model in production, but while we are experimenting we will leave it as is.\n",
    "\n",
    "Now it's time to test our first prompts. Let's start with some very easy to classify text:"
   ]
  },
  {
   "cell_type": "code",
   "execution_count": null,
   "metadata": {},
   "outputs": [],
   "source": [
    "simple_test_data = [\"I love you\", \"I hate you\"]\n",
    "sentiment_pipeline(simple_test_data)"
   ]
  },
  {
   "cell_type": "markdown",
   "metadata": {},
   "source": [
    "Reassuringly, the model got it right! And with a high degree of confidence, more than 99.9% in both cases.\n",
    "\n",
    "You'll have noticed that this was a bit slow, it took several seconds to provide the answer. This is because of the computing architecture of the IPU, during the first execution of a pipeline, the model needs to be compiled and loaded into the IPU. While this takes some time, these overheads only the first execution of a pipeline! \n",
    "\n",
    "On subsequent prompts it is much faster:"
   ]
  },
  {
   "cell_type": "code",
   "execution_count": null,
   "metadata": {},
   "outputs": [],
   "source": [
    "sentiment_pipeline(simple_test_data)"
   ]
  },
  {
   "cell_type": "markdown",
   "metadata": {},
   "source": [
    "Now that was much faster! We can use the `%%timeit` cell magic to check how fast:"
   ]
  },
  {
   "cell_type": "code",
   "execution_count": null,
   "metadata": {},
   "outputs": [],
   "source": [
    "%%timeit\n",
    "sentiment_pipeline(simple_test_data)"
   ]
  },
  {
   "cell_type": "markdown",
   "metadata": {},
   "source": [
    "It takes on the order of ~1ms per prompt, this is fast!"
   ]
  },
  {
   "cell_type": "markdown",
   "metadata": {},
   "source": [
    "### Customising the IPU resources\n",
    "\n",
    "Depending on your system you may have 4, 16 or 64 IPUs available. IPUs are designed from the ground up to make it easy to scale applications to large numbers of processors working together, however, in this case it is not needed, 1 IPU is sufficient.\n",
    "\n",
    "We're going to make sure that we are using a single IPU so that other users or other applications that we are running in the background are not affected. To do that, we define an `inference_config` dictionary which contains arguments that will be passed to the `optimum.graphcore.IPUConfig` object which controls the accelerator. \n",
    "\n",
    "We recreate our pipeline with the new settings:\n"
   ]
  },
  {
   "cell_type": "code",
   "execution_count": null,
   "metadata": {},
   "outputs": [],
   "source": [
    "inference_config = dict(layers_per_ipu=[40], ipus_per_replica=1, enable_half_partials=True, matmul_proportion=0.6)\n",
    "sentiment_pipeline = pipelines.pipeline(\"sentiment-analysis\", ipu_config_kwargs=inference_config)\n",
    "data = [\"I love you\", \"I hate you\"]\n",
    "sentiment_pipeline(simple_test_data)"
   ]
  },
  {
   "cell_type": "markdown",
   "metadata": {},
   "source": [
    "It still works as expected.\n"
   ]
  },
  {
   "cell_type": "markdown",
   "metadata": {},
   "source": [
    "### Asking more complex questions\n",
    "\n",
    "Now, our initial prompts are trivial to classify, what if we asked the pipeline to classify a more ambiguous sentences?"
   ]
  },
  {
   "cell_type": "code",
   "execution_count": null,
   "metadata": {},
   "outputs": [],
   "source": [
    "ambiguous_prompts = [\n",
    "    \"How are you today?\", \n",
    "    \"I'm a little tired, I didn't sleep well, but I hope it gets better\"\n",
    "]"
   ]
  },
  {
   "cell_type": "markdown",
   "metadata": {},
   "source": [
    "The first sentence is perfectly neutral, while the second is a mix of negative and positive sentiment.\n",
    "A good answer from the model would reflect the ambiguous nature of the prompt."
   ]
  },
  {
   "cell_type": "code",
   "execution_count": null,
   "metadata": {},
   "outputs": [],
   "source": [
    "sentiment_pipeline(ambiguous_prompts)"
   ]
  },
  {
   "cell_type": "markdown",
   "metadata": {},
   "source": [
    "The model only supports two labels: \"POSITIVE\" and \"NEGATIVE\"; neither of which really captures the sentiment of those messages.\n",
    "While we see a slight drop in the confidence of the model, but it does not feel sufficient to reflect message.\n",
    "\n",
    "The imprecise classification of these prompts would affect any downstream task: if we were trying to derive some insights from the model on customer satisfaction we may have an overly optimistic view of performance and derive the wrong conclusions.\n",
    "\n",
    "To resolve this issue we need to try more models, which accommodate finer grained classification."
   ]
  },
  {
   "cell_type": "markdown",
   "metadata": {},
   "source": [
    "## Trying more models\n",
    "\n",
    "[The blog post]() we are following suggests a number of other models, lets try them all to see if they perform better on our ambiguous prompts!\n",
    "\n",
    "The first one is `finiteautomata/bertweet-base-sentiment-analysis` a [RoBERTa model trained on 40 thousand tweets](https://huggingface.co/finiteautomata/bertweet-base-sentiment-analysis) collected before 2018. Using it is as simple as giving the name of the 🤗 hub repository as the model argument:"
   ]
  },
  {
   "cell_type": "code",
   "execution_count": null,
   "metadata": {},
   "outputs": [],
   "source": [
    "tweet_model = pipelines.pipeline(\n",
    "    \"sentiment-analysis\",\n",
    "    model=\"finiteautomata/bertweet-base-sentiment-analysis\", ipu_config_kwargs=inference_config,\n",
    ")\n",
    "print(simple_test_data)\n",
    "tweet_model(simple_test_data)"
   ]
  },
  {
   "cell_type": "markdown",
   "metadata": {},
   "source": [
    "Unsurprisingly, the model correctly classifies our simple prompt. Now let's try our more ambiguous prompt. "
   ]
  },
  {
   "cell_type": "code",
   "execution_count": null,
   "metadata": {},
   "outputs": [],
   "source": [
    "tweet_model([\"How are you today?\", \"I'm a little tired, I didn't sleep well, but I hope it gets better\"])"
   ]
  },
  {
   "cell_type": "markdown",
   "metadata": {},
   "source": [
    "That is much better: the model classifies the first prompt as neutral and the second as negative. The addition of a \"NEU\" (neutral) class gives the model the flexibility to correctly identify statements which do not fit as positive or negative.\n",
    "\n",
    "The challenge of the second prompt is that it has multiple clauses which capture different sentiments. To get a better result on it you might separate it out into multiple prompts that are better suited to the model. For example we can split on `,` to classify each clause of the sentence on its own:"
   ]
  },
  {
   "cell_type": "code",
   "execution_count": null,
   "metadata": {},
   "outputs": [],
   "source": [
    "out = tweet_model([\n",
    "    \"How are you today?\", \n",
    "    *\"I'm a little tired, I didn't sleep well, but I hope it gets better\".split(\",\"),\n",
    "])\n",
    "out"
   ]
  },
  {
   "cell_type": "markdown",
   "metadata": {},
   "source": [
    "Here each parts of the sentence is correctly classified, how you choose to process those sentence parts will depend on what you need to use the results of the sentiment analysis for.\n",
    "\n",
    "We can do small changes to the prompt to get an intuition of how the model responds to changes in grammar. Below the last part of the ambiguous sentence is changed to be more optimistic:"
   ]
  },
  {
   "cell_type": "code",
   "execution_count": null,
   "metadata": {},
   "outputs": [],
   "source": [
    "print(f\"Previous score: {out[-1]}\")\n",
    "\n",
    "tweet_model([\"but it is getting better\"])"
   ]
  },
  {
   "cell_type": "markdown",
   "metadata": {},
   "source": [
    "As a consequence of that change the score associated with the positive label has gone up, matching the desired behavior of the model."
   ]
  },
  {
   "cell_type": "markdown",
   "metadata": {},
   "source": [
    "### A model finetuned on tweets\n",
    "\n",
    "The next model discussed in the blog post is the [`cardiffnlp/twitter-roberta-base-sentiment-latest`](https://huggingface.co/cardiffnlp/twitter-roberta-base-sentiment-latest) model, it is a RoBERTa-Base which was trained on 124M tweets collected between 2018 and 2021. This data makes the model much more recent than the previous pre-trained checkpoint.\n",
    "\n",
    "As before this model is trivial to load through the pipeline API:"
   ]
  },
  {
   "cell_type": "code",
   "execution_count": null,
   "metadata": {},
   "outputs": [],
   "source": [
    "from pprint import pprint\n",
    "newer_model = pipelines.pipeline(\n",
    "    model=\"cardiffnlp/twitter-roberta-base-sentiment-latest\", ipu_config_kwargs=inference_config\n",
    ")\n",
    "out = newer_model(simple_test_data + ambiguous_prompts)\n",
    "# print prompts and predicted labels side by side\n",
    "pprint([*zip(simple_test_data + ambiguous_prompts, out)])"
   ]
  },
  {
   "cell_type": "markdown",
   "metadata": {},
   "source": [
    "This model performs similarly on these prompts as the model explored in the previous section. Differences in the model may not be apparent until we start prompting about recent events.\n",
    "\n",
    "If we ask the previous model to classify a statement about the Coronavirus pandemic we get different results between the models:"
   ]
  },
  {
   "cell_type": "code",
   "execution_count": null,
   "metadata": {},
   "outputs": [],
   "source": [
    "coronavirus_prompt = [\"Coronavirus is increasing\"]\n",
    "old = tweet_model(coronavirus_prompt)\n",
    "new = newer_model(coronavirus_prompt)\n",
    "print(f\"Older model score: {old}\")\n",
    "print(f\"Newer model score: {new}\")"
   ]
  },
  {
   "cell_type": "markdown",
   "metadata": {},
   "source": [
    "The newer model has a strong negative connotation for Coronavirus while the older model sees it as a neutral statement. This simple experiment shows the importance of testing and fine-tuning models regularly to make sure that sentiment analysis continues to be accurate as connotations of certain words evolve."
   ]
  },
  {
   "cell_type": "code",
   "execution_count": null,
   "metadata": {},
   "outputs": [],
   "source": [
    "# We stop using these pipelines in the rest of the notebook so we detach from the\n",
    "# IPU devices to allow us to test additional models for more details see the section\n",
    "# on managing resources at the end of the document.\n",
    "tweet_model.model.detachFromDevice()\n",
    "newer_model.model.detachFromDevice()"
   ]
  },
  {
   "cell_type": "markdown",
   "metadata": {},
   "source": [
    "### Multi-lingual model\n",
    "\n",
    "The next model has an interesting feature: it is multi-lingual. It was trained on a dataset of English, Dutch, German, Spanish, Italian and French text, it can be prompted in any of these languages and should correctly classify the text inputs.\n",
    "\n",
    "The model is `nlptown/bert-base-multilingual-uncased-sentiment` a BERT checkpoint fine-tuned on ~700k reviews in 6 languages and predicts between 1 and 5 stars for each prompt."
   ]
  },
  {
   "cell_type": "code",
   "execution_count": null,
   "metadata": {},
   "outputs": [],
   "source": [
    "model_name = \"nlptown/bert-base-multilingual-uncased-sentiment\"\n",
    "multilingual_model = pipelines.pipeline(\n",
    "    model=model_name, ipu_config_kwargs=inference_config\n",
    ")\n",
    "print(simple_test_data)\n",
    "multilingual_model(simple_test_data)"
   ]
  },
  {
   "cell_type": "markdown",
   "metadata": {},
   "source": [
    "It successfully classifies our simple input, now let's see how it fares with our ambiguous input:"
   ]
  },
  {
   "cell_type": "code",
   "execution_count": null,
   "metadata": {},
   "outputs": [],
   "source": [
    "multilingual_model([\n",
    "    \"How are you today?\",\n",
    "    \"I'm a little tired, I didn't sleep well, but I hope it gets better\"\n",
    "])"
   ]
  },
  {
   "cell_type": "markdown",
   "metadata": {},
   "source": [
    "While it is a bit optimistic about our first prompt, it's guess is given with a fairly low confidence, and it identifies the second prompt as neutral with a median score of 3.\n",
    "\n",
    "Now let's translate our prompts and ask it the same questions in French:"
   ]
  },
  {
   "cell_type": "code",
   "execution_count": null,
   "metadata": {},
   "outputs": [],
   "source": [
    "ambiguous_in_french = [\n",
    "    \"Comment vas-tu aujourd'hui?\",\n",
    "    \"Je suis un peu fatigue, je n'ai pas bien dormi mais j'espere que la journee s'ameliore\",\n",
    "]\n",
    "multilingual_model(ambiguous_in_french)\n"
   ]
  },
  {
   "cell_type": "markdown",
   "metadata": {},
   "source": [
    "The model gives very similar results in both languages!\n",
    "\n",
    "Now let us revisit our first model, could it also work with this multi-lingual input?"
   ]
  },
  {
   "cell_type": "code",
   "execution_count": null,
   "metadata": {},
   "outputs": [],
   "source": [
    "print(sentiment_pipeline(ambiguous_prompts))\n",
    "print(sentiment_pipeline(ambiguous_in_french))"
   ]
  },
  {
   "cell_type": "markdown",
   "metadata": {},
   "source": [
    "Unsurprisingly it cannot, its prediction are not stable across the two languages. However this model did not perform very well on the ambiguous prompts. If we re-use some of the more precise English-only models and run them on more obvious prompts: "
   ]
  },
  {
   "cell_type": "code",
   "execution_count": null,
   "metadata": {},
   "outputs": [],
   "source": [
    "simple_french_input = [\n",
    "    \"Ce film est excellent\",  # This film is excellent\n",
    "    \"Le produit ne marche pas du tout\"  # The tool does not work at all\n",
    "]\n",
    "print(newer_model(simple_french_input))\n",
    "print(multilingual_model(simple_french_input))"
   ]
  },
  {
   "cell_type": "markdown",
   "metadata": {},
   "source": [
    "In this case we see the multi-lingual model correctly predict strongly positive and negative labels, while the other model predicts a positive message (correct) and a neutral (expected LABEL_0)."
   ]
  },
  {
   "cell_type": "markdown",
   "metadata": {},
   "source": [
    "### Other models\n",
    "\n",
    "Models can be finetuned to extract different classes from text. The `bhadresh-savani/distilbert-base-uncased-emotion` checkpoint is a DistilBERT checkpoint tuned to identify the emotion associated with a prompt:"
   ]
  },
  {
   "cell_type": "code",
   "execution_count": null,
   "metadata": {},
   "outputs": [],
   "source": [
    "model_name = \"bhadresh-savani/distilbert-base-uncased-emotion\"\n",
    "emotion_model = pipelines.pipeline(model=model_name, ipu_config_kwargs=inference_config)\n",
    "emotion_model(simple_test_data)"
   ]
  },
  {
   "cell_type": "markdown",
   "metadata": {},
   "source": [
    "This model can be prompted with sentences which include different emotions:"
   ]
  },
  {
   "cell_type": "code",
   "execution_count": null,
   "metadata": {},
   "outputs": [],
   "source": [
    "emotion_model([\n",
    "    \"How are you today?\", \n",
    "    \"Don't make me go out, it's too cold!\",\n",
    "    \"What is happening, I don't understand\",\n",
    "    \"Where did you come from?\",\n",
    "])\n"
   ]
  },
  {
   "cell_type": "markdown",
   "metadata": {},
   "source": [
    "## Managing resources\n",
    "\n",
    "You have now created multiple models. The IPU architecture means that each pipeline will be attached to it's own IPUs.\n",
    "\n",
    "Grapchore provides the `gc-monitor` utility for inspecting the number of available IPUs and their usage:"
   ]
  },
  {
   "cell_type": "code",
   "execution_count": null,
   "metadata": {},
   "outputs": [],
   "source": [
    "!gc-monitor"
   ]
  },
  {
   "cell_type": "markdown",
   "metadata": {},
   "source": [
    "Now it can also be useful to capture a summary of the IPU usage of the current process:"
   ]
  },
  {
   "cell_type": "code",
   "execution_count": null,
   "metadata": {},
   "outputs": [],
   "source": [
    "!gc-monitor --no-card-info | grep ${os.getpid()}"
   ]
  },
  {
   "cell_type": "markdown",
   "metadata": {},
   "source": [
    "from this we see that we are using 4 IPUs, one per active pipeline. To continue experimenting with more models we might need to free up some devices, to do that we can call the `detachFromDevice` method on the model:"
   ]
  },
  {
   "cell_type": "code",
   "execution_count": null,
   "metadata": {},
   "outputs": [],
   "source": [
    "emotion_model.model.detachFromDevice()"
   ]
  },
  {
   "cell_type": "markdown",
   "metadata": {},
   "source": [
    "This method will free up the IPU resources while keeping the pipeline object available, meaning that we can quickly reattach the same pipeline to an IPU simply by calling it:"
   ]
  },
  {
   "cell_type": "code",
   "execution_count": null,
   "metadata": {},
   "outputs": [],
   "source": [
    "%%time\n",
    "emotion_model(simple_test_data)"
   ]
  },
  {
   "cell_type": "markdown",
   "metadata": {},
   "source": [
    "the first call is slow as the model is loaded onto the accelerator, but subsequent calls will be fast:"
   ]
  },
  {
   "cell_type": "code",
   "execution_count": null,
   "metadata": {},
   "outputs": [],
   "source": [
    "%%time\n",
    "emotion_model(simple_test_data)"
   ]
  },
  {
   "cell_type": "markdown",
   "metadata": {},
   "source": [
    "Let's detach most pipelines:"
   ]
  },
  {
   "cell_type": "code",
   "execution_count": null,
   "metadata": {},
   "outputs": [],
   "source": [
    "sentiment_pipeline.model.detachFromDevice()\n",
    "emotion_model.model.detachFromDevice()"
   ]
  },
  {
   "cell_type": "code",
   "execution_count": null,
   "metadata": {},
   "outputs": [],
   "source": [
    "!gc-monitor --no-card-info | grep ${os.getpid()}"
   ]
  },
  {
   "cell_type": "markdown",
   "metadata": {},
   "source": [
    "## Using a larger model\n",
    "\n",
    "The optimum library supports several sizes of models for many of the standard architectures, in this section we load a checkpoint which uses roBERTa large to perform the same task.\n",
    "\n",
    "Larger models will take longer to execute but may provide better predictions in a broader range of cases. As an example we load the [`j-hartmann/sentiment-roberta-large-english-3-classes`](https://huggingface.co/j-hartmann/sentiment-roberta-large-english-3-classes) checkpoint which uses the roBERTa-Large model trained on 5000 manually annotated social media posts. "
   ]
  },
  {
   "cell_type": "code",
   "execution_count": null,
   "metadata": {},
   "outputs": [],
   "source": [
    "larger_model = pipelines.pipeline(\n",
    "    \"sentiment-analysis\",\n",
    "    \"j-hartmann/sentiment-roberta-large-english-3-classes\",\n",
    "    ipu_config_kwargs=inference_config\n",
    ")\n",
    "larger_model(simple_test_data)"
   ]
  },
  {
   "cell_type": "markdown",
   "metadata": {},
   "source": [
    "As before the it succeeds on our simple example. We can check the latency of that model:"
   ]
  },
  {
   "cell_type": "code",
   "execution_count": null,
   "metadata": {},
   "outputs": [],
   "source": [
    "%%timeit\n",
    "larger_model(simple_test_data)"
   ]
  },
  {
   "cell_type": "markdown",
   "metadata": {},
   "source": [
    "The model takes about 4ms to execute per prompt, as expected this is slower than the earlier pipelines which used a smaller model."
   ]
  },
  {
   "cell_type": "code",
   "execution_count": null,
   "metadata": {},
   "outputs": [],
   "source": [
    "larger_model([\"How are you today?\", \"I'm a little tired, I didn't sleep well, but I hope it gets better\"])"
   ]
  },
  {
   "cell_type": "markdown",
   "metadata": {},
   "source": [
    "## Next steps\n",
    "\n",
    "This notebook has followed the steps of a blog post, showing how easy using IPUs for sentiment analysis is.\n",
    "The integration with the pipeline interface makes thousands of models available on the HuggingFace hub easy to use on the IPU, while following the blog post we experimented with 6 different checkpoints testing the properties of the different models.\n",
    "\n",
    "There are [hundreds more available on the Hub](https://huggingface.co/models?pipeline_tag=text-classification&sort=downloads&search=sentiment), try them out, we think they'll work but, if you hit an error, [raise an issue or open a pull request](https://github.com/huggingface/optimum-graphcore/issues) and we'll do our best to fix it! 🤗\n",
    "If you have your own dataset, the [text classfication notebook](text_classification.ipynb) will show you how a simple way to fine-tune a classification model tailored to your use case."
   ]
  },
  {
   "cell_type": "markdown",
   "metadata": {},
   "source": [
    "You may also want to check out one of the other tasks available through the `pipeline` API:"
   ]
  },
  {
   "cell_type": "code",
   "execution_count": null,
   "metadata": {},
   "outputs": [],
   "source": [
    "pipelines.list_tasks()"
   ]
  },
  {
   "cell_type": "markdown",
   "metadata": {},
   "source": [
    "\n",
    "- Explore another approach to sentiment analysis through text-generation"
   ]
  }
 ],
 "metadata": {
  "kernelspec": {
   "display_name": "Python 3.8.10 ('3.0.0+1145_poptorch')",
   "language": "python",
   "name": "python3"
  },
  "language_info": {
   "codemirror_mode": {
    "name": "ipython",
    "version": 3
   },
   "file_extension": ".py",
   "mimetype": "text/x-python",
   "name": "python",
   "nbconvert_exporter": "python",
   "pygments_lexer": "ipython3",
   "version": "3.8.10"
  },
  "orig_nbformat": 4,
  "vscode": {
   "interpreter": {
    "hash": "46bde714a99d715eba7e507975e678b0968e7177d805932276a51e552e29fed0"
   }
  }
 },
 "nbformat": 4,
 "nbformat_minor": 2
}
